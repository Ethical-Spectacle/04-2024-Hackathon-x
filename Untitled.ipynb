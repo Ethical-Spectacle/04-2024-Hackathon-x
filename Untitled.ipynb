{
 "cells": [
  {
   "cell_type": "code",
   "execution_count": null,
   "id": "8285fa2a-097f-4c98-999d-67184a0c12ba",
   "metadata": {},
   "outputs": [],
   "source": [
    "import pandas as pd\n",
    "import matplotlib.pyplot as plt\n",
    "\n",
    "filename = r\"C:\\Users\\User\\Downloads\\ExcessFoodPublic_USTer_2023_R9\\ExcessFoodPublic_USTer_2023_R9\\ExcelTables\\RestaurantsAndFoodServices.xlsx\"  \n",
    "df = pd.read_excel(filename, sheet_name = \"Data\", skiprows = 1)\n",
    "df = df.drop_duplicates()\n",
    "df = df.dropna(subset=['Excess Food Estimate, Low (tons per year)', 'Excess Food Estiamte, High (tons per year)'])\n",
    "\n",
    "def show_food_estimates(df):\n",
    "    plt.figure(figsize=(10, 6))\n",
    "    plt.plot(df.index, df['Excess Food Estimate, Low (tons per year)'], label='Low Estimate')\n",
    "    plt.plot(df.index, df['Excess Food Estiamte, High (tons per year)'], label='High Estimate')\n",
    "    plt.xlabel('Index')\n",
    "    plt.ylabel('Tons per year')\n",
    "    plt.title('Excess Food Estimate')\n",
    "    plt.legend()\n",
    "    plt.show()\n",
    "def show_city_estimates(df):\n",
    "    grouped = df.groupby(['City', 'County']).agg({'Excess Food Estimate, High (tons per year)': 'sum','Excess Food Estiamte, High (tons per year)': 'sum'})\n",
    "    sorted_grouped = grouped.sort_values(by='Excess Food Estimate, High (tons per year)', ascending=False)\n",
    "    sorted_grouped_lowest = grouped.sort_values(by='Excess Food Estimate, Low (tons per year)', ascending=True)\n",
    "    return sorted_grouped.head(), sorted_grouped_lowest.head()\n",
    "r1,r2 = show_city_estimates(df)\n",
    "print(r1,r2)"
   ]
  },
  {
   "cell_type": "code",
   "execution_count": null,
   "id": "dcf5b38a-8a31-440e-a804-bc14477dae9d",
   "metadata": {},
   "outputs": [],
   "source": []
  }
 ],
 "metadata": {
  "kernelspec": {
   "display_name": "Python 3 (ipykernel)",
   "language": "python",
   "name": "python3"
  },
  "language_info": {
   "codemirror_mode": {
    "name": "ipython",
    "version": 3
   },
   "file_extension": ".py",
   "mimetype": "text/x-python",
   "name": "python",
   "nbconvert_exporter": "python",
   "pygments_lexer": "ipython3",
   "version": "3.10.11"
  }
 },
 "nbformat": 4,
 "nbformat_minor": 5
}
